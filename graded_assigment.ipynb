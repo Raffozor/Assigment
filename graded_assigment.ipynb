{
 "cells": [
  {
   "cell_type": "markdown",
   "metadata": {},
   "source": [
    "\n",
    "<h1>My Jupyter Notebook on IBM Watson Studio </h1>"
   ]
  },
  {
   "cell_type": "markdown",
   "metadata": {},
   "source": [
    "<b>Raffaello Cesetti</b> <br> I want to become a Data Scientist"
   ]
  },
  {
   "cell_type": "markdown",
   "metadata": {},
   "source": [
    "<i> I want to become a Data Scientist focused on financial data since my Master's degree is on finance and I'm passionate about it. \n",
    "    I think that Data Science will be very useful in the financial field to help firms and families to improve their decision process on financial matters.<i>"
   ]
  },
  {
   "cell_type": "markdown",
   "metadata": {},
   "source": [
    "<h3>This code will provide the sum of 999 + 999</h3>"
   ]
  },
  {
   "cell_type": "code",
   "execution_count": 1,
   "metadata": {},
   "outputs": [
    {
     "data": {
      "text/plain": [
       "1998"
      ]
     },
     "execution_count": 1,
     "metadata": {},
     "output_type": "execute_result"
    }
   ],
   "source": [
    "999 + 999"
   ]
  },
  {
   "cell_type": "markdown",
   "metadata": {},
   "source": [
    "Horizontal rule below\n",
    "    <hr>\n",
    "Horizontal rule above\n",
    "\n",
    "<ul>\n",
    "  <li>bullet 1</li>\n",
    "  <li>bullet 2</li>\n",
    "  <li>bullet 3</li>\n",
    "</ul>\n",
    "\n",
    "<ol>\n",
    "  <li>numbered 1</li>\n",
    "  <li>numbered 2</li>\n",
    "  <li>numbered 3</li>\n",
    "</ol>\n",
    "\n",
    "<img src=\"data:image/jpeg;base64,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\" alt=\"sunset\">"
   ]
  },
  {
   "cell_type": "code",
   "execution_count": null,
   "metadata": {},
   "outputs": [],
   "source": []
  }
 ],
 "metadata": {
  "kernelspec": {
   "display_name": "Python 3",
   "language": "python",
   "name": "python3"
  },
  "language_info": {
   "codemirror_mode": {
    "name": "ipython",
    "version": 3
   },
   "file_extension": ".py",
   "mimetype": "text/x-python",
   "name": "python",
   "nbconvert_exporter": "python",
   "pygments_lexer": "ipython3",
   "version": "3.8.3"
  }
 },
 "nbformat": 4,
 "nbformat_minor": 4
}
